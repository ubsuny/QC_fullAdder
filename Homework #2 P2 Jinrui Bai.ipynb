{
 "cells": [
  {
   "cell_type": "markdown",
   "id": "a4506f75-f0d1-4088-8372-eaa4c136acc7",
   "metadata": {},
   "source": [
    "# Homework documentation\n",
    "\n",
    "## Jinrui Bai\n",
    "\n",
    "#### This is a documentation for compuational physics 1 in 2021 for homework #2\n",
    "\n",
    "### Task -- what do I what to do?\n",
    "\n",
    "* Learning __computatuional physics__\n",
    "- Learning things about __quantum computer__\n",
    "+ Practicing programming in **C++** and **Python**\n",
    "- Learning how to write proper **numerical algorithms**\n",
    "\n",
    "### Reference -- how do other people do it?\n",
    "\n",
    "1. [They learn it from slack channel: https://app.slack.com](https://app.slack.com)\n",
    "2. [They learn it from UB learns: https://ublearns.buffalo.edu](https://ublearns.buffalo.edu)\n",
    "3. [They learn it from Google: https://www.google.com/](https://www.google.com/)\n",
    "\n",
    "### Methods -- how did I implement it?\n",
    "\n",
    "> I would implement my purposes by attending class on time and finishing every assignment at my best.\n",
    "> I should also listen to other people's suggestions and explore area I'm interested to learn this course.\n",
    "\n",
    "### Results -- what is the outcome?\n",
    "\n",
    "* The grade for my every assignment counts!\n",
    "+ The grade for my midterm counts!\n",
    "- The grade for my final project counts!\n",
    "+ Most importantly, my passion for physics counts!\n",
    "\n",
    "### Outlook -- what would be nice to have?\n",
    "\n",
    "1. Continuing my learning on computation physics 2;\n",
    "2. Learning more things about quantum computer;\n",
    "3. Strengthen my programming fundamental.\n"
   ]
  },
  {
   "cell_type": "code",
   "execution_count": null,
   "id": "fe2a616b-5f5c-4fa9-a37a-1d8d1598edb5",
   "metadata": {},
   "outputs": [],
   "source": []
  }
 ],
 "metadata": {
  "kernelspec": {
   "display_name": "Qiskit v0.30.1 (ipykernel)",
   "language": "python",
   "name": "python3"
  },
  "language_info": {
   "codemirror_mode": {
    "name": "ipython",
    "version": 3
   },
   "file_extension": ".py",
   "mimetype": "text/x-python",
   "name": "python",
   "nbconvert_exporter": "python",
   "pygments_lexer": "ipython3",
   "version": "3.8.10"
  },
  "widgets": {
   "application/vnd.jupyter.widget-state+json": {
    "state": {},
    "version_major": 2,
    "version_minor": 0
   }
  }
 },
 "nbformat": 4,
 "nbformat_minor": 5
}
