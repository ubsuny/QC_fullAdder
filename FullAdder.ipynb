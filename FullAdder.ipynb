{
 "cells": [
  {
   "cell_type": "markdown",
   "id": "ff7cbcb5-d0f0-4696-acb9-811eb094ec15",
   "metadata": {},
   "source": [
    "## What Does This Do?\n",
    "\n",
    "This code is meant to add $1 + 1 + 1 = 3$ on a quantum computer. This will be done by intitalizing an IBM quantum circuit with 5 quibits. Through the use of various quantum gates, and treating the measurements as the sum and carry columns, three 1 qubits will be added to receive the sum of 3.\n",
    "\n",
    "## How Has This Been Done Before, and How is it Done Now?\n",
    "\n",
    "This process has been shown in class both classically and on a quantum computer. As mentioned previously, the sum of three is acheieved by treating certain columns as the sum of the qubits and others as a carry over column. Classically, the gates used are AND and XOR gates. On a quantum computer, these correspond to the Toffoli and CNOT gates, respectively."
   ]
  },
  {
   "cell_type": "markdown",
   "id": "d02c2242-b77f-4c63-b868-a6fb320d72e4",
   "metadata": {},
   "source": [
    "### Imports\n",
    "\n",
    "First, we have to make all of our import statements. We import a number of useful tools from the qiskit package for using and visualizing our quantum circuit. Then we also have to import some python tools to plot the result."
   ]
  },
  {
   "cell_type": "code",
   "execution_count": 1,
   "id": "16c47b77-65e6-43d9-a4d4-24686d899c78",
   "metadata": {},
   "outputs": [],
   "source": [
    "#import qiskit tools\n",
    "import qiskit \n",
    "from qiskit import QuantumCircuit, ClassicalRegister, QuantumRegister, transpile, Aer, IBMQ\n",
    "from qiskit.tools.visualization import circuit_drawer\n",
    "from qiskit.tools.monitor import job_monitor, backend_monitor, backend_overview\n",
    "from qiskit.providers.aer import noise\n",
    "from qiskit.visualization import plot_histogram\n",
    "\n",
    "\n",
    "#import python stuff\n",
    "import matplotlib.pyplot as plt\n",
    "import numpy as np\n",
    "import time"
   ]
  },
  {
   "cell_type": "markdown",
   "id": "042f3993-0907-48bd-b6b9-66987d38efd6",
   "metadata": {},
   "source": [
    "Next we have to load the IBMQ account to make sure that it is loaded if it was not already. This cell also will select the actual quantum computer that we will be running the circuit on."
   ]
  },
  {
   "cell_type": "code",
   "execution_count": 5,
   "id": "0b90766f-0c6c-4dd4-aad1-3504ce0e5109",
   "metadata": {},
   "outputs": [
    {
     "name": "stderr",
     "output_type": "stream",
     "text": [
      "ibmqfactory.load_account:WARNING:2021-10-09 17:04:10,588: Credentials are already in use. The existing account in the session will be replaced.\n"
     ]
    }
   ],
   "source": [
    "# Set devices, if using a real device\n",
    "IBMQ.load_account()\n",
    "provider = IBMQ.get_provider('ibm-q')\n",
    "quito = provider.get_backend('ibmq_belem')"
   ]
  },
  {
   "cell_type": "markdown",
   "id": "36530371-ece1-4640-b34a-8fd35d432601",
   "metadata": {},
   "source": [
    "## Making the Circuit\n",
    "\n",
    "The next three cells are dedicated to setting up the circuit that we will be using for our addition. The first cell initializes the quantum circuit using the qiskit tools we imported earlier.\n",
    "\n",
    "Following the initialization of our quantum circuit, we then need to populate it with the qubits we will be measuring, the logic gates that will subject the qubits to the desired addition process, and then measure the result. This will return an instruction set that will be used later when actually running the circuit on a quantum computer.\n",
    "\n",
    "Last, we will take advantage of more of the python and qiskit tools that were imported to run the instruction set on the previously decided on quantum computer. This will display the position of the instruction in the queue, and its success status. Once again, much of the code for running this circuit on the quantum computer has been taken from the CHSH Bell Inequality Jupyter Notebook."
   ]
  },
  {
   "cell_type": "code",
   "execution_count": 3,
   "id": "b21f8f40-e377-46cf-9e15-e69a8b9df9b0",
   "metadata": {},
   "outputs": [],
   "source": [
    "#Initialize our Quantum Circuit\n",
    "qreg_q = QuantumRegister(5, 'q')\n",
    "creg_c = ClassicalRegister(5, 'c')\n",
    "circuit = QuantumCircuit(qreg_q, creg_c)"
   ]
  },
  {
   "cell_type": "code",
   "execution_count": 4,
   "id": "d484e03b-3d14-4521-87d0-7e899f04715e",
   "metadata": {},
   "outputs": [
    {
     "data": {
      "text/plain": [
       "<qiskit.circuit.instructionset.InstructionSet at 0x7ff01b2673d0>"
      ]
     },
     "execution_count": 4,
     "metadata": {},
     "output_type": "execute_result"
    }
   ],
   "source": [
    "#Reset the starting qubits\n",
    "\n",
    "circuit.reset(qreg_q[0])\n",
    "circuit.reset(qreg_q[1])\n",
    "circuit.reset(qreg_q[2])\n",
    "\n",
    "#Set the quantum logic gates\n",
    "circuit.x(qreg_q[1])\n",
    "circuit.x(qreg_q[2])\n",
    "circuit.x(qreg_q[0])\n",
    "circuit.cx(qreg_q[0], qreg_q[3])\n",
    "circuit.cx(qreg_q[1], qreg_q[3])\n",
    "circuit.cx(qreg_q[2], qreg_q[3])\n",
    "circuit.ccx(qreg_q[0], qreg_q[1], qreg_q[4])\n",
    "circuit.ccx(qreg_q[0], qreg_q[2], qreg_q[4])\n",
    "circuit.ccx(qreg_q[1], qreg_q[2], qreg_q[4])\n",
    "\n",
    "#Measure the final result\n",
    "circuit.measure(qreg_q[3], creg_c[3])\n",
    "circuit.measure(qreg_q[4], creg_c[4])"
   ]
  },
  {
   "cell_type": "code",
   "execution_count": 9,
   "id": "24267c2b-aa34-4d35-859c-89a8470857d2",
   "metadata": {},
   "outputs": [
    {
     "name": "stdout",
     "output_type": "stream",
     "text": [
      "Job Status: job has successfully run\n",
      "11.605453252792358\n"
     ]
    }
   ],
   "source": [
    "# Execute and get counts\n",
    "\n",
    "tic = time.time()\n",
    "transpiled_circuit = transpile(circuit, quito) # transpile: compile onto a usable platform\n",
    "job_real = quito.run(transpiled_circuit, shots=1000)\n",
    "job_monitor(job_real)\n",
    "result_real = job_real.result()\n",
    "toc = time.time()\n",
    "\n",
    "print(toc-tic)"
   ]
  },
  {
   "cell_type": "markdown",
   "id": "045822e5-9e68-46bf-b4e8-e9ac7e85f334",
   "metadata": {},
   "source": [
    "## Visualization\n",
    "\n",
    "Now that we have made and run the quantum circuit, we want to display the data in a useful way. The purpose of the circuit is to add three qubits together in an actual example of $1 + 1 + 1 = 3$ on a quantum computer. Using some qiskit tools, we can visualize this circuit in the same way that the IBM quantum composer does.\n",
    "\n",
    "Following this, we can use matplotlib to visualize the results of the process in a histogram. We expect that, for the most part, we should see a result of 3 in the style of sum and carry. Due to this being on a quantum computer, we know not to expect the result to be 3 everytime like it would be on a classical computer."
   ]
  },
  {
   "cell_type": "code",
   "execution_count": 14,
   "id": "4f9db83f-3bf7-48d4-81b8-b4903f3c750b",
   "metadata": {},
   "outputs": [
    {
     "data": {
      "image/png": "[encoded data removed]",
      "text/plain": [
       "<Figure size 688.597x385.28 with 1 Axes>"
      ]
     },
     "execution_count": 14,
     "metadata": {},
     "output_type": "execute_result"
    }
   ],
   "source": [
    "# editor = CircuitComposer(circuit=circuit)\n",
    "# editor\n",
    "\n",
    "circuit.draw()"
   ]
  },
  {
   "cell_type": "code",
   "execution_count": 10,
   "id": "43a04737-c3ce-47cd-9347-b73e8b9faf1c",
   "metadata": {},
   "outputs": [
    {
     "name": "stdout",
     "output_type": "stream",
     "text": [
      "{'00000': 120, '10000': 193, '11000': 411, '01000': 276}\n"
     ]
    }
   ],
   "source": [
    "counts = result_real.get_counts(circuit)\n",
    "print(counts)\n",
    "\n",
    "#print(result_real)"
   ]
  },
  {
   "cell_type": "code",
   "execution_count": 11,
   "id": "2bdda6ae-a47d-4c27-ad8c-1ef463102dc8",
   "metadata": {},
   "outputs": [
    {
     "data": {
      "image/png": "[encoded data removed]",
      "text/plain": [
       "<Figure size 504x360 with 1 Axes>"
      ]
     },
     "execution_count": 11,
     "metadata": {},
     "output_type": "execute_result"
    }
   ],
   "source": [
    "plot_histogram(counts)"
   ]
  },
  {
   "cell_type": "markdown",
   "id": "98b57615-73d2-418a-874d-c4ab57be7cba",
   "metadata": {},
   "source": [
    "### Results\n",
    "\n",
    "This circuit can be seen to in majority give the correct result of $1 + 1 + 1 = 3$. There are a few problems and possible improvements however. First, despite the correct result being the most probable, it is less than $50%$ probable for the correct result to be given. This does not seem to be as useful as it could be due to this low probability. Additionally, the inputs of each qubit being set to $1$ are currently hard-coded. This means that one would have to manually change each qubit to check to make sure that the other results would also be correct. Ideally, this program would either run all possible combinations, or there would be an easier way of changing the inputs."
   ]
  },
  {
   "cell_type": "code",
   "execution_count": null,
   "id": "a4ad376a-e201-4e5d-b8bf-6c5a47071fa1",
   "metadata": {},
   "outputs": [],
   "source": []
  }
 ],
 "metadata": {
  "kernelspec": {
   "display_name": "Qiskit v0.30.1 (ipykernel)",
   "language": "python",
   "name": "python3"
  },
  "language_info": {
   "codemirror_mode": {
    "name": "ipython",
    "version": 3
   },
   "file_extension": ".py",
   "mimetype": "text/x-python",
   "name": "python",
   "nbconvert_exporter": "python",
   "pygments_lexer": "ipython3",
   "version": "3.8.10"
  },
  "widgets": {
   "application/vnd.jupyter.widget-state+json": {
    "state": {},
    "version_major": 2,
    "version_minor": 0
   }
  }
 },
 "nbformat": 4,
 "nbformat_minor": 5
}
