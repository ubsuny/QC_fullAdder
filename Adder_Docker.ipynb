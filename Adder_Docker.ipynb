{
 "cells": [
  {
   "cell_type": "markdown",
   "id": "7379752c-1172-4588-9063-66a2625332ca",
   "metadata": {},
   "source": [
    "# **This is the 1+1+1=3 adder**"
   ]
  },
  {
   "cell_type": "markdown",
   "id": "23f18e05-a81a-4996-8c00-957eed74151c",
   "metadata": {},
   "source": [
    "## Making the necessary imports"
   ]
  },
  {
   "cell_type": "code",
   "execution_count": 2,
   "id": "9d2961dd-8eb7-4a5b-9830-a930a1c8bd34",
   "metadata": {},
   "outputs": [],
   "source": [
    "#import qiskit tools\n",
    "import qiskit\n",
    "from qiskit import QuantumCircuit, ClassicalRegister, QuantumRegister, transpile, Aer, IBMQ\n",
    "from qiskit.tools.visualization import circuit_drawer\n",
    "from qiskit.tools.monitor import job_monitor, backend_monitor, backend_overview\n",
    "from qiskit.providers.aer import noise\n",
    "\n",
    "#import python stuff\n",
    "import matplotlib.pyplot as plt\n",
    "from qiskit.visualization import plot_histogram\n",
    "import numpy as np\n",
    "import time"
   ]
  },
  {
   "cell_type": "markdown",
   "id": "902000ea-3547-436b-be2f-cae077299e92",
   "metadata": {},
   "source": [
    "## Loading the account"
   ]
  },
  {
   "cell_type": "code",
   "execution_count": 7,
   "id": "615fada4-1a8f-47d7-a253-e620896668ee",
   "metadata": {},
   "outputs": [],
   "source": [
    "#IBMQ.delete_account()\n",
    "IBMQ.save_account('7d8a2b3e50702a93549aef58c63889439f2097b22aa826ddd3288b29ec6e0c39323697aec7a13cc6ebcad9b54ea264568443bd100b6b22807075618946ee8724', overwrite=True)\n",
    "#IBMQ.enable_account(my_api)\n",
    "IBMQ.load_account()\n",
    "provider = IBMQ.get_provider('ibm-q')\n",
    "quito = provider.get_backend('ibmq_quito')"
   ]
  },
  {
   "cell_type": "markdown",
   "id": "c9f65827-c8e0-42ec-9080-e959cb13ab4e",
   "metadata": {},
   "source": [
    "## Making the adder circuit"
   ]
  },
  {
   "cell_type": "code",
   "execution_count": 8,
   "id": "893e270a-12f3-41d7-93c2-44bc47674adf",
   "metadata": {},
   "outputs": [
    {
     "data": {
      "text/plain": [
       "<qiskit.circuit.instructionset.InstructionSet at 0x7efef265dd00>"
      ]
     },
     "execution_count": 8,
     "metadata": {},
     "output_type": "execute_result"
    }
   ],
   "source": [
    "qreg_q = QuantumRegister(5, 'q')\n",
    "creg_c = ClassicalRegister(5, 'c')\n",
    "circuit = QuantumCircuit(qreg_q, creg_c)\n",
    "\n",
    "circuit.reset(qreg_q[0])\n",
    "circuit.reset(qreg_q[1])\n",
    "circuit.reset(qreg_q[2])\n",
    "circuit.cx(qreg_q[0], qreg_q[3])\n",
    "circuit.cx(qreg_q[1], qreg_q[3])\n",
    "circuit.cx(qreg_q[2], qreg_q[3])\n",
    "circuit.ccx(qreg_q[0], qreg_q[1], qreg_q[4])\n",
    "circuit.ccx(qreg_q[2], qreg_q[0], qreg_q[4])\n",
    "circuit.ccx(qreg_q[1], qreg_q[2], qreg_q[4])\n",
    "circuit.measure(qreg_q[3], creg_c[3])\n",
    "circuit.measure(qreg_q[4], creg_c[4])"
   ]
  },
  {
   "cell_type": "markdown",
   "id": "745a6a8e-68eb-4719-8419-21d92e01e3af",
   "metadata": {},
   "source": [
    "## Visualizing the adder circuit"
   ]
  },
  {
   "cell_type": "code",
   "execution_count": 9,
   "id": "0d5cbb57-0f26-4ec9-ba18-ad75d3fe7e13",
   "metadata": {},
   "outputs": [
    {
     "data": {
      "text/html": [
       "<pre style=\"word-wrap: normal;white-space: pre;background: #fff0;line-height: 1.1;font-family: &quot;Courier New&quot;,Courier,monospace\">                                              \n",
       "q_0: ─|0>───■──────────────■────■─────────────\n",
       "            │              │    │             \n",
       "q_1: ─|0>───┼────■─────────■────┼───────■─────\n",
       "            │    │         │    │       │     \n",
       "q_2: ─|0>───┼────┼────■────┼────■───────■─────\n",
       "          ┌─┴─┐┌─┴─┐┌─┴─┐  │    │  ┌─┐  │     \n",
       "q_3: ─────┤ X ├┤ X ├┤ X ├──┼────┼──┤M├──┼─────\n",
       "          └───┘└───┘└───┘┌─┴─┐┌─┴─┐└╥┘┌─┴─┐┌─┐\n",
       "q_4: ────────────────────┤ X ├┤ X ├─╫─┤ X ├┤M├\n",
       "                         └───┘└───┘ ║ └───┘└╥┘\n",
       "c: 5/═══════════════════════════════╩═══════╩═\n",
       "                                    3       4 </pre>"
      ],
      "text/plain": [
       "                                              \n",
       "q_0: ─|0>───■──────────────■────■─────────────\n",
       "            │              │    │             \n",
       "q_1: ─|0>───┼────■─────────■────┼───────■─────\n",
       "            │    │         │    │       │     \n",
       "q_2: ─|0>───┼────┼────■────┼────■───────■─────\n",
       "          ┌─┴─┐┌─┴─┐┌─┴─┐  │    │  ┌─┐  │     \n",
       "q_3: ─────┤ X ├┤ X ├┤ X ├──┼────┼──┤M├──┼─────\n",
       "          └───┘└───┘└───┘┌─┴─┐┌─┴─┐└╥┘┌─┴─┐┌─┐\n",
       "q_4: ────────────────────┤ X ├┤ X ├─╫─┤ X ├┤M├\n",
       "                         └───┘└───┘ ║ └───┘└╥┘\n",
       "c: 5/═══════════════════════════════╩═══════╩═\n",
       "                                    3       4 "
      ]
     },
     "execution_count": 9,
     "metadata": {},
     "output_type": "execute_result"
    }
   ],
   "source": [
    "circuit.draw()"
   ]
  },
  {
   "cell_type": "markdown",
   "id": "ca0b224e-77ab-42e9-b325-ffb28c2cc653",
   "metadata": {},
   "source": [
    "## Fetching the counts"
   ]
  },
  {
   "cell_type": "code",
   "execution_count": 10,
   "id": "51009a0f-a6c2-450f-bb1d-d68cff57d1e1",
   "metadata": {},
   "outputs": [
    {
     "name": "stdout",
     "output_type": "stream",
     "text": [
      "Job Status: job has successfully run\n"
     ]
    }
   ],
   "source": [
    "tic = time.time()\n",
    "transpiled_circuits = transpile(circuit, quito)\n",
    "job_real = quito.run(transpiled_circuits, shots=8192)\n",
    "job_monitor(job_real)\n",
    "result_real = job_real.result()\n",
    "toc = time.time()"
   ]
  },
  {
   "cell_type": "markdown",
   "id": "b710f037-b6ed-4fa0-b10e-3e1c06858e16",
   "metadata": {},
   "source": [
    "## Making a histogram"
   ]
  },
  {
   "cell_type": "code",
   "execution_count": 11,
   "id": "c1ec7a62-0ea1-49eb-82c9-1db511528668",
   "metadata": {},
   "outputs": [
    {
     "data": {
      "image/png": "[encoded data removed]",
      "text/plain": [
       "<Figure size 504x360 with 1 Axes>"
      ]
     },
     "execution_count": 11,
     "metadata": {},
     "output_type": "execute_result"
    }
   ],
   "source": [
    "counts = result_real.get_counts()\n",
    "plot_histogram(counts)"
   ]
  },
  {
   "cell_type": "code",
   "execution_count": null,
   "id": "26d765b7-6255-4e2a-8e49-787bd6c707b3",
   "metadata": {},
   "outputs": [],
   "source": []
  }
 ],
 "metadata": {
  "kernelspec": {
   "display_name": "Python 3 (ipykernel)",
   "language": "python",
   "name": "python3"
  },
  "language_info": {
   "codemirror_mode": {
    "name": "ipython",
    "version": 3
   },
   "file_extension": ".py",
   "mimetype": "text/x-python",
   "name": "python",
   "nbconvert_exporter": "python",
   "pygments_lexer": "ipython3",
   "version": "3.9.5"
  },
  "widgets": {
   "application/vnd.jupyter.widget-state+json": {
    "state": {},
    "version_major": 2,
    "version_minor": 0
   }
  }
 },
 "nbformat": 4,
 "nbformat_minor": 5
}
