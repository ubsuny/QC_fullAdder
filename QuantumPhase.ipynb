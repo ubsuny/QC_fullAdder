{
 "cells": [
  {
   "cell_type": "markdown",
   "id": "62bfcd66-7378-4100-a24c-8a0fa202a4ef",
   "metadata": {
    "tags": []
   },
   "source": [
    "### What Does This Do?\n",
    "\n",
    "This notebook is supposed to measure an unknown phase shift in a quantum circuit. This is done by introducing a superposition with a Haddamard gate, then making a phase change with a phase gate, before recombining the states with a second Haddamard gate.\n",
    "\n",
    "### How Has This Been Done Before?\n",
    "\n",
    "This is being done in a very similar way to what is known as a Ramsey Circuit. Ramsey circuits are broken up into a real and imaginary component, corresponding to and X and Y circuit. These measure the real and imaginary components of the phase that was introduced. Through some mathematical analysis using the atan2 function, the phase difference can be recovered."
   ]
  },
  {
   "cell_type": "markdown",
   "id": "21e0b86b-f234-429a-b3fd-4f7504666dd9",
   "metadata": {},
   "source": [
    "### Imports\n",
    "\n",
    "First, we need to import a number of tools from both qiskit and python. From qiskit, we need to import the tools to make, modify, and visualize our quantum circuit. From python we are importing a few general useful tools."
   ]
  },
  {
   "cell_type": "code",
   "execution_count": 32,
   "id": "67d1de7a-9726-49cc-8078-d463a09418ff",
   "metadata": {},
   "outputs": [],
   "source": [
    "#import qiskit tools\n",
    "import qiskit\n",
    "from qiskit import *\n",
    "from qiskit import QuantumCircuit, ClassicalRegister, QuantumRegister, transpile, Aer, IBMQ\n",
    "from qiskit.tools.visualization import circuit_drawer\n",
    "from qiskit.tools.monitor import job_monitor, backend_monitor, backend_overview\n",
    "from qiskit.providers.aer import noise\n",
    "from qiskit.visualization import plot_histogram\n",
    "from qiskit.providers.aer import QasmSimulator\n",
    "\n",
    "\n",
    "#import python stuff\n",
    "import matplotlib.pyplot as plt\n",
    "import numpy as np\n",
    "import time\n",
    "import math"
   ]
  },
  {
   "cell_type": "markdown",
   "id": "5b215597-a94b-4c2c-9097-d69c9eae59fd",
   "metadata": {},
   "source": [
    "We then also need to load the IBMQ account if it has not been loaded already. Here we also select the quantum computer that we actually want to run this circuit on. Much of the code for running this circuit on the quantum computer has been taken from the CHSH Bell Inequality Jupyter Notebook."
   ]
  },
  {
   "cell_type": "code",
   "execution_count": 36,
   "id": "46b6f2d3-4e17-49d0-b8fa-3c0aac3204a8",
   "metadata": {},
   "outputs": [
    {
     "name": "stderr",
     "output_type": "stream",
     "text": [
      "ibmqfactory.load_account:WARNING:2021-10-09 17:01:29,810: Credentials are already in use. The existing account in the session will be replaced.\n"
     ]
    }
   ],
   "source": [
    "# Set devices, if using a real device\n",
    "IBMQ.load_account()\n",
    "provider = IBMQ.get_provider('ibm-q')\n",
    "quito = provider.get_backend('ibmq_belem')"
   ]
  },
  {
   "cell_type": "markdown",
   "id": "065170e3-527a-4e1d-a9d5-ac663cc42f69",
   "metadata": {},
   "source": [
    "Here we initialize our first quantum circuit and place the necessary gates. We are adding two Haddamard gates and a phase gate. This is used to measure the real component of the phase. Following this, we will run the circuit on the chosen quantum computer."
   ]
  },
  {
   "cell_type": "code",
   "execution_count": 4,
   "id": "f28d817b-4859-4cc3-adea-f6e167f03576",
   "metadata": {},
   "outputs": [],
   "source": [
    "qreg_q = QuantumRegister(1, 'q')\n",
    "creg_c = ClassicalRegister(1, 'c')\n",
    "circuit = QuantumCircuit(qreg_q, creg_c)\n",
    "\n",
    "simulator = QasmSimulator()"
   ]
  },
  {
   "cell_type": "code",
   "execution_count": 21,
   "id": "bdf2f852-601e-4c1a-9490-eeb6e4ffc994",
   "metadata": {},
   "outputs": [],
   "source": [
    "circuit.reset(qreg_q[0])\n",
    "\n",
    "\n",
    "circuit.h(qreg_q[0])\n",
    "circuit.p(np.pi/2, qreg_q[0])\n",
    "# circuit.sdg(qreg_q[0])\n",
    "circuit.h(qreg_q[0])\n",
    "\n",
    "\n",
    "circuit.measure(qreg_q[0], creg_c[0])\n",
    "\n",
    "compiled_circuit = transpile(circuit, simulator)\n"
   ]
  },
  {
   "cell_type": "code",
   "execution_count": 6,
   "id": "b4ade9dd-52e9-49a6-a001-1c0e2ac6cbc2",
   "metadata": {},
   "outputs": [
    {
     "name": "stdout",
     "output_type": "stream",
     "text": [
      "\n",
      "Total count for 00 and 11 are: {'0': 1000}\n"
     ]
    }
   ],
   "source": [
    "job = simulator.run(compiled_circuit, shots = 1000)\n",
    "result = job.result()\n",
    "\n",
    "counts = result.get_counts(compiled_circuit)\n",
    "print(\"\\nTotal count for 00 and 11 are:\", counts)"
   ]
  },
  {
   "cell_type": "code",
   "execution_count": 24,
   "id": "4e5bf35b-9452-4d8a-a646-cf92ced44738",
   "metadata": {},
   "outputs": [
    {
     "name": "stdout",
     "output_type": "stream",
     "text": [
      "Job Status: job has successfully run\n",
      "12.632831811904907\n"
     ]
    }
   ],
   "source": [
    "# Execute and get counts\n",
    "\n",
    "tic = time.time()\n",
    "transpiled_circuit = transpile(circuit, quito) # transpile: compile onto a usable platform\n",
    "job_real = quito.run(transpiled_circuit, shots=1000)\n",
    "job_monitor(job_real)\n",
    "result_real = job_real.result()\n",
    "toc = time.time()\n",
    "\n",
    "print(toc-tic)"
   ]
  },
  {
   "cell_type": "code",
   "execution_count": 38,
   "id": "d69e662c-670c-4446-8182-a97786f25259",
   "metadata": {},
   "outputs": [
    {
     "name": "stdout",
     "output_type": "stream",
     "text": [
      "<module 'qiskit.circuit' from '/opt/conda/lib/python3.8/site-packages/qiskit/circuit/__init__.py'>\n"
     ]
    }
   ],
   "source": [
    "# editor = CircuitComposer(circuit=circuit)\n",
    "# editor\n",
    "\n",
    "print(circuit)"
   ]
  },
  {
   "cell_type": "markdown",
   "id": "39c60df1-6c61-4b6c-83df-3d5b215bca98",
   "metadata": {},
   "source": [
    "Now that the job has been run on the quantum computer, we can collect the counts of each result to then later use them to find the phase. Here is plotted the real results."
   ]
  },
  {
   "cell_type": "code",
   "execution_count": 25,
   "id": "64b8d632-930e-4c0b-bce0-1b2b66421de2",
   "metadata": {},
   "outputs": [
    {
     "name": "stdout",
     "output_type": "stream",
     "text": [
      "{'0': 531, '1': 469}\n"
     ]
    }
   ],
   "source": [
    "counts = result_real.get_counts(circuit)\n",
    "print(counts)"
   ]
  },
  {
   "cell_type": "code",
   "execution_count": 26,
   "id": "c599cf14-8fad-434c-913e-d1eaf614a0ab",
   "metadata": {},
   "outputs": [
    {
     "data": {
      "image/png": "[encoded data removed]",
      "text/plain": [
       "<Figure size 504x360 with 1 Axes>"
      ]
     },
     "execution_count": 26,
     "metadata": {},
     "output_type": "execute_result"
    }
   ],
   "source": [
    "plot_histogram(counts)"
   ]
  },
  {
   "cell_type": "markdown",
   "id": "f14050ef-4479-464d-8099-85132e75196a",
   "metadata": {},
   "source": [
    "In order to find the unknown phase, we need to run the second circuit to find the imaginary phase. This is accomplished by initiating a second circuit with an S dagger gate. This projects the imaginary plane onto the real plane so it can be measured."
   ]
  },
  {
   "cell_type": "code",
   "execution_count": 10,
   "id": "0ed41c6a-a683-42fc-98b7-405a02f6096f",
   "metadata": {},
   "outputs": [],
   "source": [
    "qreg_q2 = QuantumRegister(1, 'q')\n",
    "creg_c2 = ClassicalRegister(1, 'c')\n",
    "circuit2 = QuantumCircuit(qreg_q2, creg_c2)\n",
    "\n",
    "simulator2 = QasmSimulator()"
   ]
  },
  {
   "cell_type": "code",
   "execution_count": 11,
   "id": "903ed759-155d-47f6-823b-0534a1bf1ee7",
   "metadata": {},
   "outputs": [],
   "source": [
    "circuit2.reset(qreg_q[0])\n",
    "\n",
    "\n",
    "circuit2.h(qreg_q[0])\n",
    "circuit2.p(np.pi/2, qreg_q[0])\n",
    "circuit2.sdg(qreg_q[0])\n",
    "circuit2.h(qreg_q[0])\n",
    "\n",
    "\n",
    "circuit2.measure(qreg_q[0], creg_c[0])\n",
    "\n",
    "compiled_circuit2 = transpile(circuit2, simulator2)"
   ]
  },
  {
   "cell_type": "code",
   "execution_count": 27,
   "id": "b9fdbe8a-fb12-47e1-ae22-2082b50a7490",
   "metadata": {},
   "outputs": [
    {
     "name": "stdout",
     "output_type": "stream",
     "text": [
      "Job Status: job has successfully run\n",
      "20.703677892684937\n"
     ]
    }
   ],
   "source": [
    "# Execute and get counts\n",
    "\n",
    "tic = time.time()\n",
    "transpiled_circuit2 = transpile(circuit2, quito) # transpile: compile onto a usable platform\n",
    "job_real2 = quito.run(transpiled_circuit2, shots=1000)\n",
    "job_monitor(job_real2)\n",
    "result_real2 = job_real2.result()\n",
    "toc = time.time()\n",
    "\n",
    "print(toc-tic)"
   ]
  },
  {
   "cell_type": "markdown",
   "id": "992928e2-0b8a-4b87-990e-188b38598c99",
   "metadata": {},
   "source": [
    "Once again, we will plot the results of this circuit. These are the imaginary results, the second component required to find the unknown phase."
   ]
  },
  {
   "cell_type": "code",
   "execution_count": 28,
   "id": "d8323afd-11cf-4236-9e60-d0f1bae1a0d8",
   "metadata": {},
   "outputs": [
    {
     "name": "stdout",
     "output_type": "stream",
     "text": [
      "{'0': 993, '1': 7}\n"
     ]
    }
   ],
   "source": [
    "counts2 = result_real2.get_counts(circuit2)\n",
    "print(counts2)"
   ]
  },
  {
   "cell_type": "code",
   "execution_count": 29,
   "id": "1164751c-99d9-4a57-88db-a7926d730773",
   "metadata": {},
   "outputs": [
    {
     "data": {
      "image/png": "[encoded data removed]",
      "text/plain": [
       "<Figure size 504x360 with 1 Axes>"
      ]
     },
     "execution_count": 29,
     "metadata": {},
     "output_type": "execute_result"
    }
   ],
   "source": [
    "plot_histogram(counts2)"
   ]
  },
  {
   "cell_type": "markdown",
   "id": "30649158-689c-46d5-b5fd-e87231427c08",
   "metadata": {},
   "source": [
    "### Calculation of the Unknown Phase\n",
    "\n",
    "Now that we have the results from the two quantum circuits, we can calculate the unknown phase. This is done by taking the difference of the 0 and 1 results from each the real and imaginary circuit. These are then normalized and plugged into the ATAN2 function to obtain the phase. Starting with the calculation of the differences:"
   ]
  },
  {
   "cell_type": "code",
   "execution_count": 31,
   "id": "c3bcd68c-5368-4970-aba6-3bf0808dcf78",
   "metadata": {},
   "outputs": [
    {
     "name": "stdout",
     "output_type": "stream",
     "text": [
      "0.062\n",
      "0.986\n"
     ]
    }
   ],
   "source": [
    "real_difference = (counts[\"0\"]*0.001) - (counts[\"1\"]*0.001)\n",
    "\n",
    "imaginary_difference = (counts2[\"0\"]*0.001) - (counts2[\"1\"]*0.001)\n",
    "\n",
    "\n",
    "print(real_difference)\n",
    "print(imaginary_difference)"
   ]
  },
  {
   "cell_type": "markdown",
   "id": "ceba43fe-5fda-470f-8bb4-849344955b7c",
   "metadata": {},
   "source": [
    "Now we have to normalize these values, and then plug them into the ATAN2 function."
   ]
  },
  {
   "cell_type": "code",
   "execution_count": 33,
   "id": "7426440b-d65b-495c-8409-8d579ed2365c",
   "metadata": {},
   "outputs": [
    {
     "name": "stdout",
     "output_type": "stream",
     "text": [
      "0.0627563796106564\n",
      "0.9980288757436646\n"
     ]
    }
   ],
   "source": [
    "x_norm = (real_difference)/(math.sqrt((real_difference)**2 + (imaginary_difference)**2))\n",
    "y_norm = (imaginary_difference)/(math.sqrt((real_difference)**2 + (imaginary_difference)**2))\n",
    "\n",
    "print(x_norm)\n",
    "print(y_norm)"
   ]
  },
  {
   "cell_type": "code",
   "execution_count": 34,
   "id": "6e5bf26f-77b4-46be-887b-af805ae21bd1",
   "metadata": {},
   "outputs": [
    {
     "name": "stdout",
     "output_type": "stream",
     "text": [
      "1.5079986811054826\n"
     ]
    }
   ],
   "source": [
    "phase = math.atan2(y_norm, x_norm)\n",
    "print(phase)"
   ]
  },
  {
   "cell_type": "markdown",
   "id": "d5bef83d-97c6-47f0-8df7-e48a27dc73f4",
   "metadata": {},
   "source": [
    "### Results\n",
    "\n",
    "This value is very similar to the phase that was inserted into the circuit. The set phase is $\\frac{\\pi}{2}$, which is equivalent to about 1.57. This is not the exact same value because of the interference that is always present on a quantum computer. Noise of any sort will disrupt the exact accuracy of this measurement, but it is still very close. This program works as intended, as the phase was able to be recovered. In order for increased accuracy, implementation to run these circuits more times or on different systems could be beneficial."
   ]
  },
  {
   "cell_type": "code",
   "execution_count": null,
   "id": "568f73c8-1ed0-4270-8841-2fc7ff83f4d1",
   "metadata": {},
   "outputs": [],
   "source": []
  }
 ],
 "metadata": {
  "kernelspec": {
   "display_name": "Qiskit v0.30.1 (ipykernel)",
   "language": "python",
   "name": "python3"
  },
  "language_info": {
   "codemirror_mode": {
    "name": "ipython",
    "version": 3
   },
   "file_extension": ".py",
   "mimetype": "text/x-python",
   "name": "python",
   "nbconvert_exporter": "python",
   "pygments_lexer": "ipython3",
   "version": "3.8.10"
  },
  "widgets": {
   "application/vnd.jupyter.widget-state+json": {
    "state": {},
    "version_major": 2,
    "version_minor": 0
   }
  }
 },
 "nbformat": 4,
 "nbformat_minor": 5
}
