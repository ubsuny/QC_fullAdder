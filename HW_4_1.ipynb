{
 "cells": [
  {
   "cell_type": "markdown",
   "id": "ea411b2f-c878-40ff-abaf-23040c9b628f",
   "metadata": {},
   "source": [
    "# HW-4.1 \n",
    "## Using docker image [UBSUNY/cp1-hw4](https://hub.docker.com/repository/docker/ubsuny/cp1-hw4)"
   ]
  },
  {
   "cell_type": "markdown",
   "id": "75b38f35-3532-4c3e-b8a5-d1cd85195b5d",
   "metadata": {},
   "source": [
    "I am going to use the circuit that was implemented in IBM Lab. This time I am going to use the docker image mentioned above. Using the Jupyter Notebook in Docker image I m going use quiskit to to implement a circuit which can calculate 1+2=3  and than run the simulatot using the [IBM Quantum Computer](https://quantum-computing.ibm.com/lab) remotely."
   ]
  },
  {
   "cell_type": "markdown",
   "id": "bbb81f61-a26e-460b-8554-65f2ba8c60df",
   "metadata": {},
   "source": [
    "We are going to use Full Adder to perform our calculation of 1+2= 3   The codes are taken from [Qiskit.org ](https://qiskit.org/textbook/ch-states/atoms-computation.html). "
   ]
  },
  {
   "cell_type": "markdown",
   "id": "a948f085-4a27-466f-8c8d-0b3bfeeab8e7",
   "metadata": {},
   "source": [
    "We could just use half adder but it will not be abble to produce the carry on bit which is why we must use full adder to get both sum and carry on "
   ]
  },
  {
   "cell_type": "markdown",
   "id": "cc0b1d67-2522-4bc0-9563-caf2b405f64f",
   "metadata": {},
   "source": [
    "To calculate , we need to use 3 qibits for  our input values , 2 qibits as output qubits and 5 classical bits for measurement. "
   ]
  },
  {
   "cell_type": "markdown",
   "id": "104bc4dd-8a3c-49f9-b42c-24b64842373f",
   "metadata": {},
   "source": [
    "First we do our necessary imports as follows :  Quantum registers, Classical register and Quantum circuit, numpy etc."
   ]
  },
  {
   "cell_type": "code",
   "execution_count": 2,
   "id": "22de3dcd-dfa2-4c7c-865e-63742702c7b0",
   "metadata": {},
   "outputs": [],
   "source": [
    "import numpy as np\n",
    "# Importing standard Qiskit libraries\n",
    "from qiskit import QuantumCircuit, transpile, Aer, IBMQ\n",
    "from qiskit.tools.jupyter import *\n",
    "from qiskit.visualization import *\n",
    "from qiskit.providers.aer import QasmSimulator"
   ]
  },
  {
   "cell_type": "markdown",
   "id": "fe45c02f-0c6b-4e73-94ef-55670ea30965",
   "metadata": {},
   "source": [
    "Now I am going to generate the circuit (full adder ) using 5 quantum registers and 2 classical registers. The codes below are taken from [IBM Qiskit](https://qiskit.org/textbook/ch-states/atoms-computation.html) . "
   ]
  },
  {
   "cell_type": "code",
   "execution_count": 3,
   "id": "d7b56a66-7c4a-49d1-9be4-5a941af869b7",
   "metadata": {},
   "outputs": [
    {
     "data": {
      "text/plain": [
       "<qiskit.circuit.instructionset.InstructionSet at 0xffff77271e50>"
      ]
     },
     "execution_count": 3,
     "metadata": {},
     "output_type": "execute_result"
    }
   ],
   "source": [
    "qc_ha = QuantumCircuit(5,2)\n",
    "# encode inputs in qubits 0 and 1\n",
    "qc_ha.x(0) # For a=0, remove the this line. For a=1, leave it.\n",
    "qc_ha.x(1) # For b=0, remove the this line. For b=1, leave it.\n",
    "qc_ha.x(2)\n",
    "qc_ha.barrier()\n",
    "# use cnots to write the XOR of the inputs on qubit 2\n",
    "qc_ha.cx(0,3)\n",
    "qc_ha.cx(1,3)\n",
    "# use ccx to write the AND of the inputs on qubit 3\n",
    "qc_ha.ccx(0,1,4)\n",
    "qc_ha.barrier()\n",
    "qc_ha.cx(2,3)\n",
    "# use ccx to write the AND of the inputs on qubit 3\n",
    "qc_ha.ccx(0,2,4)\n",
    "qc_ha.ccx(1,2,4)\n",
    "qc_ha.barrier()\n",
    "# extract outputs\n",
    "qc_ha.measure(3,0) # extract XOR value\n",
    "qc_ha.measure(4,1) # extract AND value"
   ]
  },
  {
   "cell_type": "markdown",
   "id": "cc335c21-13cc-43db-ae5f-d24c16c2e95b",
   "metadata": {},
   "source": [
    "Lets draw the circuit : "
   ]
  },
  {
   "cell_type": "code",
   "execution_count": 4,
   "id": "05b3f78f-5c1d-4721-82e3-520d670c341c",
   "metadata": {},
   "outputs": [
    {
     "data": {
      "text/html": [
       "<pre style=\"word-wrap: normal;white-space: pre;background: #fff0;line-height: 1.1;font-family: &quot;Courier New&quot;,Courier,monospace\">     ┌───┐ ░                 ░                 ░       \n",
       "q_0: ┤ X ├─░───■─────────■───░────────■────────░───────\n",
       "     ├───┤ ░   │         │   ░        │        ░       \n",
       "q_1: ┤ X ├─░───┼────■────■───░────────┼────■───░───────\n",
       "     ├───┤ ░   │    │    │   ░        │    │   ░       \n",
       "q_2: ┤ X ├─░───┼────┼────┼───░───■────■────■───░───────\n",
       "     └───┘ ░ ┌─┴─┐┌─┴─┐  │   ░ ┌─┴─┐  │    │   ░ ┌─┐   \n",
       "q_3: ──────░─┤ X ├┤ X ├──┼───░─┤ X ├──┼────┼───░─┤M├───\n",
       "           ░ └───┘└───┘┌─┴─┐ ░ └───┘┌─┴─┐┌─┴─┐ ░ └╥┘┌─┐\n",
       "q_4: ──────░───────────┤ X ├─░──────┤ X ├┤ X ├─░──╫─┤M├\n",
       "           ░           └───┘ ░      └───┘└───┘ ░  ║ └╥┘\n",
       "c: 2/═════════════════════════════════════════════╩══╩═\n",
       "                                                  0  1 </pre>"
      ],
      "text/plain": [
       "     ┌───┐ ░                 ░                 ░       \n",
       "q_0: ┤ X ├─░───■─────────■───░────────■────────░───────\n",
       "     ├───┤ ░   │         │   ░        │        ░       \n",
       "q_1: ┤ X ├─░───┼────■────■───░────────┼────■───░───────\n",
       "     ├───┤ ░   │    │    │   ░        │    │   ░       \n",
       "q_2: ┤ X ├─░───┼────┼────┼───░───■────■────■───░───────\n",
       "     └───┘ ░ ┌─┴─┐┌─┴─┐  │   ░ ┌─┴─┐  │    │   ░ ┌─┐   \n",
       "q_3: ──────░─┤ X ├┤ X ├──┼───░─┤ X ├──┼────┼───░─┤M├───\n",
       "           ░ └───┘└───┘┌─┴─┐ ░ └───┘┌─┴─┐┌─┴─┐ ░ └╥┘┌─┐\n",
       "q_4: ──────░───────────┤ X ├─░──────┤ X ├┤ X ├─░──╫─┤M├\n",
       "           ░           └───┘ ░      └───┘└───┘ ░  ║ └╥┘\n",
       "c: 2/═════════════════════════════════════════════╩══╩═\n",
       "                                                  0  1 "
      ]
     },
     "execution_count": 4,
     "metadata": {},
     "output_type": "execute_result"
    }
   ],
   "source": [
    "qc_ha.draw()"
   ]
  },
  {
   "cell_type": "markdown",
   "id": "d760e7ff-6d19-4fed-9dcf-69cd5427549c",
   "metadata": {},
   "source": [
    "Now I am going to use a real IBM quantum computer to simulate the circuit. For that I need to use my token from my IBM account \n",
    "to authenticate the access. "
   ]
  },
  {
   "cell_type": "markdown",
   "id": "99197a13-fd9f-4ec8-a73c-92777a3437ee",
   "metadata": {},
   "source": [
    "We now choose a device with the least busy queue which can support our program"
   ]
  },
  {
   "cell_type": "code",
   "execution_count": null,
   "id": "7f25aba2-b63e-477b-96f1-2279a27ac00a",
   "metadata": {},
   "outputs": [],
   "source": [
    "from qiskit import IBMQ\n",
    "IBMQ.save_account('721674cf0abc1c4d6856b0e4384c3ad72a594211ba6238d49d78a6e03cdd5f4a88c2f6c8c8bbcc09b4f08dc59fd1726aef2dd2e3116d3b344fe8f713acb8bb69')\n",
    "provider = IBMQ.load_account()"
   ]
  },
  {
   "cell_type": "code",
   "execution_count": 10,
   "id": "7b667d12-0f41-44a2-9f8a-886fbb2c5d59",
   "metadata": {},
   "outputs": [
    {
     "name": "stdout",
     "output_type": "stream",
     "text": [
      "The best backend is ibmq_belem\n"
     ]
    }
   ],
   "source": [
    "from qiskit.providers.ibmq import least_busy\n",
    "from qiskit import execute\n",
    "\n",
    "large_enough_devices = provider.backends(filters=lambda x: x.configuration().n_qubits > 3 and not x.configuration().simulator)\n",
    "backend = least_busy(large_enough_devices)\n",
    "print(\"The best backend is \" + backend.name())"
   ]
  },
  {
   "cell_type": "markdown",
   "id": "04b872b4-445e-42d9-80d9-5606560fe404",
   "metadata": {},
   "source": [
    "To run the circuit on the backend, we need to specify the number of shots and the number of credits we are willing to spend to run the circuit. Then, we execute the circuit on the backend using the execute function."
   ]
  },
  {
   "cell_type": "code",
   "execution_count": 11,
   "id": "6b710569-762c-4178-bf9a-da6a07061957",
   "metadata": {},
   "outputs": [
    {
     "name": "stdout",
     "output_type": "stream",
     "text": [
      "Job Status: job has successfully run\n"
     ]
    }
   ],
   "source": [
    "from qiskit.tools.monitor import job_monitor\n",
    "# Number of shots to run the program (experiment);\n",
    "# maximum is 8192 shots.\n",
    "shots = 1024\n",
    "# Maximum number of credits to spend on executions.\n",
    "max_credits = 3\n",
    "job_exp = execute(qc_ha, backend, shots=shots, max_credits=max_credits)\n",
    "job_monitor(job_exp)"
   ]
  },
  {
   "cell_type": "markdown",
   "id": "4a05f09b-19a7-477c-8aef-51c84fad3065",
   "metadata": {},
   "source": [
    "Let's get the result . When the .result() method is called, the code block will wait until the job has finished before releasing the cell. It took me almost 15 minutes to show the result."
   ]
  },
  {
   "cell_type": "code",
   "execution_count": 13,
   "id": "fc4650dd-47a3-45a4-81dd-efe5b334f88b",
   "metadata": {},
   "outputs": [],
   "source": [
    "result_exp = job_exp.result()"
   ]
  },
  {
   "cell_type": "markdown",
   "id": "cce69132-b53c-4bd4-9929-8e6382ad33b0",
   "metadata": {},
   "source": [
    "We can plot the result  histogram as follow:"
   ]
  },
  {
   "cell_type": "code",
   "execution_count": 16,
   "id": "2e7c9855-f967-4fa5-b155-84f22cc77296",
   "metadata": {},
   "outputs": [
    {
     "data": {
      "image/png": "[encoded data removed]",
      "text/plain": [
       "<Figure size 504x360 with 1 Axes>"
      ]
     },
     "execution_count": 16,
     "metadata": {},
     "output_type": "execute_result"
    }
   ],
   "source": [
    "counts_exp = result_exp.get_counts(qc_ha)\n",
    "plot_histogram(counts_exp)"
   ]
  },
  {
   "cell_type": "markdown",
   "id": "f53c4d16-f571-4b7a-be98-8c0f27bf5aab",
   "metadata": {},
   "source": [
    "Even though I was expecting 11 (binary for 3) 100% , there are some other provabilities. But the highest provability is 32% for getting result 11. "
   ]
  },
  {
   "cell_type": "markdown",
   "id": "83a82131-0918-42b2-9482-7df252eee300",
   "metadata": {},
   "source": [
    "##4.3  \n",
    " **Using Pandoc to convert the file into .pdf** "
   ]
  },
  {
   "cell_type": "markdown",
   "id": "62769717-08c4-4485-967e-ba1e8556f371",
   "metadata": {},
   "source": [
    "I run the following command in terminal to convert the .ipynb file to .pdf:\n",
    "\n",
    "**\" pandoc hw_4_1.ipynb -o hw_4_1.pdf \"**"
   ]
  },
  {
   "cell_type": "markdown",
   "id": "4a7088b1-d9d4-4c4a-b4ed-772c2aa0d044",
   "metadata": {},
   "source": [
    "![image.png](pandoc_hw4.png)"
   ]
  },
  {
   "cell_type": "markdown",
   "id": "329642a4-71f8-437f-b13d-03a05fed122a",
   "metadata": {},
   "source": [
    "It successfully converted the jupyter notebook file to a pdf file."
   ]
  }
 ],
 "metadata": {
  "kernelspec": {
   "display_name": "Python 3 (ipykernel)",
   "language": "python",
   "name": "python3"
  },
  "language_info": {
   "codemirror_mode": {
    "name": "ipython",
    "version": 3
   },
   "file_extension": ".py",
   "mimetype": "text/x-python",
   "name": "python",
   "nbconvert_exporter": "python",
   "pygments_lexer": "ipython3",
   "version": "3.9.5"
  },
  "widgets": {
   "application/vnd.jupyter.widget-state+json": {
    "state": {},
    "version_major": 2,
    "version_minor": 0
   }
  }
 },
 "nbformat": 4,
 "nbformat_minor": 5
}
