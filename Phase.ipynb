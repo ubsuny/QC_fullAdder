{
 "cells": [
  {
   "cell_type": "markdown",
   "id": "210cff21-3e0a-4e78-9555-30a69bbeed5a",
   "metadata": {},
   "source": [
    "# **Calculating Phase**"
   ]
  },
  {
   "cell_type": "markdown",
   "id": "31cf124a-a7b4-41ea-951a-8b2f19ce19dc",
   "metadata": {},
   "source": [
    "## Importing necessary imports"
   ]
  },
  {
   "cell_type": "code",
   "execution_count": 1,
   "id": "28ae2a6a-ff64-4667-b7dc-908d8d08b5a4",
   "metadata": {},
   "outputs": [],
   "source": [
    "#import qiskit tools\n",
    "import qiskit\n",
    "from qiskit import QuantumCircuit, ClassicalRegister, QuantumRegister, transpile, Aer, IBMQ\n",
    "from qiskit.tools.visualization import circuit_drawer\n",
    "from qiskit.tools.monitor import job_monitor, backend_monitor, backend_overview\n",
    "from qiskit.providers.aer import noise\n",
    "\n",
    "#import python stuff\n",
    "import matplotlib.pyplot as plt\n",
    "from qiskit.visualization import plot_histogram\n",
    "import numpy as np\n",
    "import time"
   ]
  },
  {
   "cell_type": "code",
   "execution_count": 2,
   "id": "1095029c-cc66-4b2d-9d10-cac3e5f8b027",
   "metadata": {},
   "outputs": [],
   "source": [
    "#from qiskit import QuantumRegister, ClassicalRegister, QuantumCircuit, Aer, assemble\n",
    "from numpy import pi\n",
    "from math import atan2, sqrt\n",
    "from qiskit.quantum_info import Statevector\n",
    "from ibm_quantum_widgets import CircuitComposer\n"
   ]
  },
  {
   "cell_type": "markdown",
   "id": "69286f4a-3d16-4e3d-9af5-2462d308629e",
   "metadata": {},
   "source": [
    "## Loading account"
   ]
  },
  {
   "cell_type": "code",
   "execution_count": 3,
   "id": "a1c5fe1b-6c6e-4927-b484-ba66f9f1cf01",
   "metadata": {},
   "outputs": [],
   "source": [
    "IBMQ.load_account()\n",
    "provider = IBMQ.get_provider('ibm-q')\n",
    "quito = provider.get_backend('ibmq_quito')\n"
   ]
  },
  {
   "cell_type": "markdown",
   "id": "c35e4a4f-e46e-4efb-a956-ba6f6a443a56",
   "metadata": {},
   "source": [
    "## Making the real circuit"
   ]
  },
  {
   "cell_type": "code",
   "execution_count": 4,
   "id": "1b253328-d3f3-4bcd-8809-4275f6632f3b",
   "metadata": {},
   "outputs": [
    {
     "data": {
      "text/plain": [
       "<qiskit.circuit.instructionset.InstructionSet at 0x7f0c7c565640>"
      ]
     },
     "execution_count": 4,
     "metadata": {},
     "output_type": "execute_result"
    }
   ],
   "source": [
    "qreg_q = QuantumRegister(1, 'q')\n",
    "creg_c = ClassicalRegister(1, 'c')\n",
    "circuit = QuantumCircuit(qreg_q, creg_c)\n",
    "\n",
    "circuit.reset(qreg_q[0])\n",
    "circuit.h(qreg_q[0])\n",
    "circuit.p(pi/3, qreg_q[0])\n",
    "circuit.h(qreg_q[0])\n",
    "circuit.measure(qreg_q[0], creg_c[0])"
   ]
  },
  {
   "cell_type": "markdown",
   "id": "3f2cf4f3-db38-4be0-aeea-876a20963037",
   "metadata": {},
   "source": [
    "## Visualizing the real circuit"
   ]
  },
  {
   "cell_type": "code",
   "execution_count": 5,
   "id": "6fd7222d-1c4a-40d5-9b29-3151485783fc",
   "metadata": {},
   "outputs": [
    {
     "data": {
      "image/png": "[encoded data removed]",
      "text/plain": [
       "<Figure size 374.326x144.48 with 1 Axes>"
      ]
     },
     "execution_count": 5,
     "metadata": {},
     "output_type": "execute_result"
    }
   ],
   "source": [
    "circuit.draw()"
   ]
  },
  {
   "cell_type": "markdown",
   "id": "85e178b4-7eba-402c-b72a-e93d45f64d53",
   "metadata": {},
   "source": [
    "## Running the job on ibm_quito"
   ]
  },
  {
   "cell_type": "code",
   "execution_count": 6,
   "id": "dd4f8cf1-2283-4938-8d13-dc1096ad3413",
   "metadata": {},
   "outputs": [
    {
     "name": "stdout",
     "output_type": "stream",
     "text": [
      "Job Status: job has successfully run\n"
     ]
    }
   ],
   "source": [
    "#circuit.save_statevector()\n",
    "tic = time.time()\n",
    "transpiled_circuits = transpile(circuit, quito)\n",
    "job_real = quito.run(transpiled_circuits, shots=8192)\n",
    "job_monitor(job_real)\n",
    "result_real = job_real.result()\n",
    "toc = time.time()"
   ]
  },
  {
   "cell_type": "markdown",
   "id": "023d0c62-f3d3-4942-96be-a7d3facbf643",
   "metadata": {},
   "source": [
    "## Fetching the real counts"
   ]
  },
  {
   "cell_type": "code",
   "execution_count": 7,
   "id": "cb62e4e5-8033-4683-b5f5-92f474149dcf",
   "metadata": {},
   "outputs": [],
   "source": [
    "out_state_real = result_real.get_counts(circuit)"
   ]
  },
  {
   "cell_type": "markdown",
   "id": "c3487f10-b9f7-4842-a947-0b1a5e1999d0",
   "metadata": {},
   "source": [
    "## Now, building the imaginary circuit"
   ]
  },
  {
   "cell_type": "code",
   "execution_count": 8,
   "id": "47b4a6d2-b225-4169-b75d-38f100a49205",
   "metadata": {},
   "outputs": [
    {
     "data": {
      "text/plain": [
       "<qiskit.circuit.instructionset.InstructionSet at 0x7f0c7c1890a0>"
      ]
     },
     "execution_count": 8,
     "metadata": {},
     "output_type": "execute_result"
    }
   ],
   "source": [
    "circuit_im = QuantumCircuit(qreg_q, creg_c)\n",
    "\n",
    "circuit_im.reset(qreg_q[0])\n",
    "circuit_im.h(qreg_q[0])\n",
    "circuit_im.p(pi/3, qreg_q[0])\n",
    "circuit_im.sdg(qreg_q[0])\n",
    "circuit_im.h(qreg_q[0])\n",
    "circuit_im.measure(qreg_q[0], creg_c[0])"
   ]
  },
  {
   "cell_type": "markdown",
   "id": "1994d583-770a-4fdc-9998-eea0d41ea0f3",
   "metadata": {},
   "source": [
    "## Visualizing the imaginary circuit"
   ]
  },
  {
   "cell_type": "code",
   "execution_count": 9,
   "id": "3c373c6e-b647-4132-80d6-75a73308d3b2",
   "metadata": {},
   "outputs": [
    {
     "data": {
      "image/png": "[encoded data removed]",
      "text/plain": [
       "<Figure size 434.526x144.48 with 1 Axes>"
      ]
     },
     "execution_count": 9,
     "metadata": {},
     "output_type": "execute_result"
    }
   ],
   "source": [
    "circuit_im.draw()"
   ]
  },
  {
   "cell_type": "markdown",
   "id": "461c9ba9-1f78-4160-97a9-efd530432746",
   "metadata": {},
   "source": [
    "## Running the job on ibm_quito again"
   ]
  },
  {
   "cell_type": "code",
   "execution_count": 10,
   "id": "c90f7a4e-7ddf-4024-baa1-e147b8a1f45a",
   "metadata": {},
   "outputs": [
    {
     "name": "stdout",
     "output_type": "stream",
     "text": [
      "Job Status: job has successfully run\n"
     ]
    }
   ],
   "source": [
    "tic = time.time()\n",
    "transpiled_circuits_im = transpile(circuit_im, quito)\n",
    "job_im = quito.run(transpiled_circuits_im, shots=8192)\n",
    "job_monitor(job_im)\n",
    "result_im = job_im.result()\n",
    "toc = time.time()"
   ]
  },
  {
   "cell_type": "markdown",
   "id": "2e9e76fb-7038-4305-a8d8-1fc7d627a60a",
   "metadata": {},
   "source": [
    "## Fetching the imaginary counts"
   ]
  },
  {
   "cell_type": "code",
   "execution_count": 11,
   "id": "6ca5eaa0-aa6b-4cf6-86ba-44d59282156f",
   "metadata": {},
   "outputs": [],
   "source": [
    "out_state_im = result_im.get_counts(circuit_im)"
   ]
  },
  {
   "cell_type": "code",
   "execution_count": 12,
   "id": "567e7736-173e-4e03-8e42-d7eca837d86f",
   "metadata": {},
   "outputs": [
    {
     "name": "stdout",
     "output_type": "stream",
     "text": [
      "{'0': 6236, '1': 1956} {'0': 7571, '1': 621}\n"
     ]
    }
   ],
   "source": [
    "print(out_state_real, out_state_im)"
   ]
  },
  {
   "cell_type": "markdown",
   "id": "ae7ac42c-7b65-4295-ab78-918e10d87616",
   "metadata": {},
   "source": [
    "## Normalizing the real and imaginary values"
   ]
  },
  {
   "cell_type": "code",
   "execution_count": 13,
   "id": "c23207e9-3974-4339-a7e2-21d2a54a82c3",
   "metadata": {},
   "outputs": [],
   "source": [
    "x_ = (out_state_real['0']-out_state_real['1'])/8192\n",
    "y_ = (out_state_im['0']-out_state_im['1'])/8192\n",
    "x_bar = x_/sqrt(x_**2+y_**2)\n",
    "y_bar = y_/sqrt(x_**2+y_**2)"
   ]
  },
  {
   "cell_type": "markdown",
   "id": "20b48d6a-d3ac-4bc0-bcd2-81dcce0f8279",
   "metadata": {},
   "source": [
    "## Comparing result to expected value"
   ]
  },
  {
   "cell_type": "code",
   "execution_count": 14,
   "id": "996ff51e-9304-4be4-bbb7-7d1e725715c0",
   "metadata": {},
   "outputs": [
    {
     "name": "stdout",
     "output_type": "stream",
     "text": [
      "1.0188202912233635\n",
      "1.0471975511965976\n"
     ]
    }
   ],
   "source": [
    "print(atan2(y_bar,x_bar))\n",
    "print(pi/3)"
   ]
  }
 ],
 "metadata": {
  "kernelspec": {
   "display_name": "Qiskit v0.30.1 (ipykernel)",
   "language": "python",
   "name": "python3"
  },
  "language_info": {
   "codemirror_mode": {
    "name": "ipython",
    "version": 3
   },
   "file_extension": ".py",
   "mimetype": "text/x-python",
   "name": "python",
   "nbconvert_exporter": "python",
   "pygments_lexer": "ipython3",
   "version": "3.8.10"
  },
  "widgets": {
   "application/vnd.jupyter.widget-state+json": {
    "state": {},
    "version_major": 2,
    "version_minor": 0
   }
  }
 },
 "nbformat": 4,
 "nbformat_minor": 5
}
