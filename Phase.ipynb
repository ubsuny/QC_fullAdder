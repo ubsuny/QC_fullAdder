{
 "cells": [
  {
   "cell_type": "markdown",
   "id": "bead89bd-5f97-43bc-958b-87810c52384b",
   "metadata": {
    "tags": []
   },
   "source": [
    "# Problem 2 : PHASE SHIFT\n",
    "\n",
    "\n",
    "## Task : \n",
    "I am going to  impliment  a curcuit in using qiskit (IBM composer) that going to measure the phase shift. More details about phase shift is provided on the website : [IBM Qubit Phase](https://quantum-computing.ibm.com/composer/docs/iqx/guide/introducing-qubit-phase) .\n"
   ]
  },
  {
   "cell_type": "markdown",
   "id": "9aefa57f-6a7c-49c7-b1f5-e4e110d8d1e6",
   "metadata": {},
   "source": [
    "## Method :\n",
    "In general , The task is completed using Ramsey method . My method is very  simmilar to the example of ramsey circuit on   [ibm.com/Ramsey](https://quantum-computing.ibm.com/composer/files/d62462b4d6ca6687e6183278255cfb55)"
   ]
  },
  {
   "cell_type": "markdown",
   "id": "8779d956-23f4-469d-9a60-3558b9b97891",
   "metadata": {},
   "source": [
    "The process is not so complicated . It is done by appliying Haddamard Gate on qubit to create the superpositon . In the middle we make the phase change. Finally we apply the Haddamard Gate again to get the phase shift. "
   ]
  },
  {
   "cell_type": "markdown",
   "id": "7079dd78-0813-45a9-8880-686fdc5aa519",
   "metadata": {},
   "source": [
    "We begin with importing necessary Libraries.  For example : Quantum Register, Classical Register, Quantum circuit etc."
   ]
  },
  {
   "cell_type": "code",
   "execution_count": 15,
   "id": "fe51c664-b6bd-4ed7-b8ec-dbd522158ec3",
   "metadata": {},
   "outputs": [],
   "source": [
    "# Importing standard Qiskit libraries\n",
    "from qiskit import QuantumCircuit,QuantumRegister, ClassicalRegister, transpile, Aer, IBMQ\n",
    "from qiskit.tools.jupyter import *\n",
    "from qiskit.visualization import *\n",
    "from ibm_quantum_widgets import *\n",
    "from qiskit.providers.aer import QasmSimulator\n",
    "# Importing numpy for using pi\n",
    "import numpy as np\n",
    "from numpy import pi"
   ]
  },
  {
   "cell_type": "markdown",
   "id": "631244c1-ffa8-4aa9-91fa-5cc9b5160b44",
   "metadata": {},
   "source": [
    "The circuit below was created in [IBM Composer ](https://quantum-computing.ibm.com/composer) and than converted into the code. "
   ]
  },
  {
   "cell_type": "code",
   "execution_count": 16,
   "id": "09d88311-a137-4e60-bd49-1a7bb2893ea0",
   "metadata": {},
   "outputs": [
    {
     "data": {
      "text/plain": [
       "<qiskit.circuit.instructionset.InstructionSet at 0x7f842edf8bb0>"
      ]
     },
     "execution_count": 16,
     "metadata": {},
     "output_type": "execute_result"
    }
   ],
   "source": [
    "qreg_q = QuantumRegister(1, 'q')\n",
    "creg_c = ClassicalRegister(1, 'c')\n",
    "circuit = QuantumCircuit(qreg_q, creg_c)\n",
    "circuit.reset(qreg_q[0])\n",
    "circuit.h(qreg_q[0])\n",
    "circuit.barrier(qreg_q[0])\n",
    "circuit.p(3*pi/4, qreg_q[0])\n",
    "circuit.barrier(qreg_q[0])\n",
    "circuit.h(qreg_q[0])\n",
    "circuit.measure(qreg_q[0], creg_c[0])"
   ]
  },
  {
   "cell_type": "markdown",
   "id": "01323f56-dc8c-4769-97a9-245e78351a12",
   "metadata": {},
   "source": [
    "Lets draw the circuit : \n"
   ]
  },
  {
   "cell_type": "code",
   "execution_count": 17,
   "id": "bbedeb3e-e6dc-4d63-9708-41510a700ee5",
   "metadata": {},
   "outputs": [
    {
     "data": {
      "image/png": "[encoded data removed]",
      "text/plain": [
       "<Figure size 494.726x144.48 with 1 Axes>"
      ]
     },
     "execution_count": 17,
     "metadata": {},
     "output_type": "execute_result"
    }
   ],
   "source": [
    "circuit.draw()"
   ]
  }
 ],
 "metadata": {
  "kernelspec": {
   "display_name": "Qiskit v0.32.1 (ipykernel)",
   "language": "python",
   "name": "python3"
  },
  "language_info": {
   "codemirror_mode": {
    "name": "ipython",
    "version": 3
   },
   "file_extension": ".py",
   "mimetype": "text/x-python",
   "name": "python",
   "nbconvert_exporter": "python",
   "pygments_lexer": "ipython3",
   "version": "3.8.10"
  },
  "widgets": {
   "application/vnd.jupyter.widget-state+json": {
    "state": {
     "044657336ec843838a4707116e7216de": {
      "model_module": "@jupyter-widgets/controls",
      "model_module_version": "1.5.0",
      "model_name": "DescriptionStyleModel",
      "state": {
       "description_width": ""
      }
     },
     "0a8939d466c142c9a6f9811c9a4a7dba": {
      "model_module": "@jupyter-widgets/controls",
      "model_module_version": "1.5.0",
      "model_name": "DescriptionStyleModel",
      "state": {
       "description_width": ""
      }
     },
     "162c7644ba544df0ac01324daf37132f": {
      "model_module": "@jupyter-widgets/controls",
      "model_module_version": "1.5.0",
      "model_name": "HTMLModel",
      "state": {
       "layout": "IPY_MODEL_694c10b2941e41f8b6ff234babbfb8b1",
       "style": "IPY_MODEL_7558d1e025e94f34bb47ee01e33b879b",
       "value": "<h5>Queue</h5>"
      }
     },
     "1750061a7a44407cbeb3bc0b92712bad": {
      "model_module": "@jupyter-widgets/controls",
      "model_module_version": "1.5.0",
      "model_name": "HTMLModel",
      "state": {
       "layout": "IPY_MODEL_821097bea7224c8d95f29c50ec8c23f4",
       "style": "IPY_MODEL_0a8939d466c142c9a6f9811c9a4a7dba",
       "value": "<h5>Message</h5>"
      }
     },
     "3d46c43beaf74fa0ada6303215560e9b": {
      "model_module": "@jupyter-widgets/base",
      "model_module_version": "1.2.0",
      "model_name": "LayoutModel",
      "state": {
       "grid_template_areas": "\n                                       \". . . . right \"\n                                        ",
       "grid_template_columns": "20% 20% 20% 20% 20%",
       "width": "100%"
      }
     },
     "49f05238c29a47bba16efb395cbb6b19": {
      "model_module": "@jupyter-widgets/controls",
      "model_module_version": "1.5.0",
      "model_name": "ButtonStyleModel",
      "state": {}
     },
     "514240a167034e0890add899dd6bb408": {
      "model_module": "@jupyter-widgets/controls",
      "model_module_version": "1.5.0",
      "model_name": "ButtonModel",
      "state": {
       "button_style": "primary",
       "description": "Clear",
       "layout": "IPY_MODEL_f242f210c2d243b48ee4712cee1c5167",
       "style": "IPY_MODEL_49f05238c29a47bba16efb395cbb6b19"
      }
     },
     "660656fe1c5d49f492480ec840725c0c": {
      "model_module": "@jupyter-widgets/controls",
      "model_module_version": "1.5.0",
      "model_name": "HBoxModel",
      "state": {
       "children": [
        "IPY_MODEL_8a765016fde94025961e606e591ce614",
        "IPY_MODEL_fac50570ea9547e3a1ed15f6f7337f7f",
        "IPY_MODEL_e9c74cc081b84fd09f5e57439ab88f59",
        "IPY_MODEL_162c7644ba544df0ac01324daf37132f",
        "IPY_MODEL_1750061a7a44407cbeb3bc0b92712bad"
       ],
       "layout": "IPY_MODEL_7243c477dccc45e180051583fc3e36d2"
      }
     },
     "694c10b2941e41f8b6ff234babbfb8b1": {
      "model_module": "@jupyter-widgets/base",
      "model_module_version": "1.2.0",
      "model_name": "LayoutModel",
      "state": {
       "width": "70px"
      }
     },
     "7243c477dccc45e180051583fc3e36d2": {
      "model_module": "@jupyter-widgets/base",
      "model_module_version": "1.2.0",
      "model_name": "LayoutModel",
      "state": {
       "margin": "0px 0px 0px 37px",
       "width": "600px"
      }
     },
     "7558d1e025e94f34bb47ee01e33b879b": {
      "model_module": "@jupyter-widgets/controls",
      "model_module_version": "1.5.0",
      "model_name": "DescriptionStyleModel",
      "state": {
       "description_width": ""
      }
     },
     "766a25135cca423eb0bf51bfabd53f62": {
      "model_module": "@jupyter-widgets/controls",
      "model_module_version": "1.5.0",
      "model_name": "DescriptionStyleModel",
      "state": {
       "description_width": ""
      }
     },
     "7aa748ee44104c5e962782b695cf6708": {
      "model_module": "@jupyter-widgets/controls",
      "model_module_version": "1.5.0",
      "model_name": "GridBoxModel",
      "state": {
       "children": [
        "IPY_MODEL_514240a167034e0890add899dd6bb408"
       ],
       "layout": "IPY_MODEL_3d46c43beaf74fa0ada6303215560e9b"
      }
     },
     "7b36a0fd5c4a48488d1222a31ea0a60d": {
      "model_module": "@jupyter-widgets/controls",
      "model_module_version": "1.5.0",
      "model_name": "DescriptionStyleModel",
      "state": {
       "description_width": ""
      }
     },
     "7c72c5dfff3e4d8f84e29abd222c1c73": {
      "model_module": "@jupyter-widgets/base",
      "model_module_version": "1.2.0",
      "model_name": "LayoutModel",
      "state": {
       "width": "190px"
      }
     },
     "821097bea7224c8d95f29c50ec8c23f4": {
      "model_module": "@jupyter-widgets/base",
      "model_module_version": "1.2.0",
      "model_name": "LayoutModel",
      "state": {}
     },
     "8a765016fde94025961e606e591ce614": {
      "model_module": "@jupyter-widgets/controls",
      "model_module_version": "1.5.0",
      "model_name": "HTMLModel",
      "state": {
       "layout": "IPY_MODEL_7c72c5dfff3e4d8f84e29abd222c1c73",
       "style": "IPY_MODEL_7b36a0fd5c4a48488d1222a31ea0a60d",
       "value": "<h5>Job ID</h5>"
      }
     },
     "9449af7742864f4ca66435b24b76dbe0": {
      "model_module": "@jupyter-widgets/base",
      "model_module_version": "1.2.0",
      "model_name": "LayoutModel",
      "state": {
       "margin": "0px 0px 10px 0px"
      }
     },
     "cd1b529b1b0d4b05ad2329ed3b9e8f16": {
      "model_module": "@jupyter-widgets/base",
      "model_module_version": "1.2.0",
      "model_name": "LayoutModel",
      "state": {
       "width": "145px"
      }
     },
     "d41e90c7945844c99b79157dd504a09a": {
      "model_module": "@jupyter-widgets/controls",
      "model_module_version": "1.5.0",
      "model_name": "DescriptionStyleModel",
      "state": {
       "description_width": ""
      }
     },
     "d6629127c1604269adeb0b065d7d8c21": {
      "model_module": "@jupyter-widgets/controls",
      "model_module_version": "1.5.0",
      "model_name": "HTMLModel",
      "state": {
       "layout": "IPY_MODEL_9449af7742864f4ca66435b24b76dbe0",
       "style": "IPY_MODEL_044657336ec843838a4707116e7216de",
       "value": "<p style='font-family: IBM Plex Sans, Arial, Helvetica, sans-serif; font-size: 20px; font-weight: medium;'>Circuit Properties</p>"
      }
     },
     "e9c74cc081b84fd09f5e57439ab88f59": {
      "model_module": "@jupyter-widgets/controls",
      "model_module_version": "1.5.0",
      "model_name": "HTMLModel",
      "state": {
       "layout": "IPY_MODEL_fcf74ab587d94184a6b3775cf57da284",
       "style": "IPY_MODEL_766a25135cca423eb0bf51bfabd53f62",
       "value": "<h5>Status</h5>"
      }
     },
     "f242f210c2d243b48ee4712cee1c5167": {
      "model_module": "@jupyter-widgets/base",
      "model_module_version": "1.2.0",
      "model_name": "LayoutModel",
      "state": {
       "grid_area": "right",
       "padding": "0px 0px 0px 0px",
       "width": "70px"
      }
     },
     "fac50570ea9547e3a1ed15f6f7337f7f": {
      "model_module": "@jupyter-widgets/controls",
      "model_module_version": "1.5.0",
      "model_name": "HTMLModel",
      "state": {
       "layout": "IPY_MODEL_cd1b529b1b0d4b05ad2329ed3b9e8f16",
       "style": "IPY_MODEL_d41e90c7945844c99b79157dd504a09a",
       "value": "<h5>Backend</h5>"
      }
     },
     "fcf74ab587d94184a6b3775cf57da284": {
      "model_module": "@jupyter-widgets/base",
      "model_module_version": "1.2.0",
      "model_name": "LayoutModel",
      "state": {
       "width": "95px"
      }
     }
    },
    "version_major": 2,
    "version_minor": 0
   }
  }
 },
 "nbformat": 4,
 "nbformat_minor": 5
}
