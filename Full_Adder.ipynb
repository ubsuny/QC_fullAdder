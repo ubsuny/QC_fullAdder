{
 "cells": [
  {
   "cell_type": "markdown",
   "id": "ea411b2f-c878-40ff-abaf-23040c9b628f",
   "metadata": {},
   "source": [
    "# Homework-1"
   ]
  },
  {
   "cell_type": "markdown",
   "id": "75b38f35-3532-4c3e-b8a5-d1cd85195b5d",
   "metadata": {},
   "source": [
    "I am going to build a quantum circuit that can be able to calculate 1+2 = 3 .  To do that I am going to use [IBM Quantum Lab ](https://quantum-computing.ibm.com/lab) . "
   ]
  },
  {
   "cell_type": "markdown",
   "id": "bbb81f61-a26e-460b-8554-65f2ba8c60df",
   "metadata": {},
   "source": [
    "We are going to use Full Adder to perform our calculation.  The codes are taken from [Qiskit.org ](https://qiskit.org/textbook/ch-states/atoms-computation.html). "
   ]
  },
  {
   "cell_type": "markdown",
   "id": "a948f085-4a27-466f-8c8d-0b3bfeeab8e7",
   "metadata": {},
   "source": [
    "We could just use half adder but it will not be abble to produce the carry on bit which is why we must use full adder to get both sum and carry on "
   ]
  },
  {
   "cell_type": "markdown",
   "id": "cc0b1d67-2522-4bc0-9563-caf2b405f64f",
   "metadata": {},
   "source": [
    "To calculate , we need to use 3 qibit as  our nput qbit ( first one for 1 and rest for 2 )  and 2 qibits as output qubits. and 5 classical bits for measurement. "
   ]
  },
  {
   "cell_type": "markdown",
   "id": "104bc4dd-8a3c-49f9-b42c-24b64842373f",
   "metadata": {},
   "source": [
    "First we do our necessary imports as follows :  Quantum registers, Classical register and Quantum circuit, numpy etc."
   ]
  },
  {
   "cell_type": "code",
   "execution_count": 33,
   "id": "22de3dcd-dfa2-4c7c-865e-63742702c7b0",
   "metadata": {},
   "outputs": [
    {
     "name": "stderr",
     "output_type": "stream",
     "text": [
      "ibmqfactory.load_account:WARNING:2021-11-25 03:39:29,293: Credentials are already in use. The existing account in the session will be replaced.\n"
     ]
    }
   ],
   "source": [
    "import numpy as np\n",
    "# Importing standard Qiskit libraries\n",
    "from qiskit import QuantumCircuit, transpile, Aer, IBMQ\n",
    "from qiskit.tools.jupyter import *\n",
    "from qiskit.visualization import *\n",
    "from ibm_quantum_widgets import *\n",
    "from qiskit.providers.aer import QasmSimulator\n",
    "# Loading your IBM Quantum account(s)\n",
    "provider = IBMQ.load_account()"
   ]
  },
  {
   "cell_type": "markdown",
   "id": "d32526b6-5326-4c2a-922d-59d81f496fce",
   "metadata": {},
   "source": [
    "We load the IBMQ account ( We do not need it while we are using the IBM quntum Lab, but we will be needed it when we run this .ipynb file remotely.)"
   ]
  },
  {
   "cell_type": "code",
   "execution_count": 34,
   "id": "a8756f33-715e-4e03-8112-c2645ada5d0a",
   "metadata": {},
   "outputs": [
    {
     "name": "stderr",
     "output_type": "stream",
     "text": [
      "ibmqfactory.load_account:WARNING:2021-11-25 03:39:31,384: Credentials are already in use. The existing account in the session will be replaced.\n"
     ]
    }
   ],
   "source": [
    "IBMQ.load_account()\n",
    "provider = IBMQ.get_provider('ibm-q')\n",
    "quito = provider.get_backend('ibmq_quito')"
   ]
  },
  {
   "cell_type": "markdown",
   "id": "fe45c02f-0c6b-4e73-94ef-55670ea30965",
   "metadata": {},
   "source": [
    "I am going to use  5 quantum register and 3 classical register."
   ]
  },
  {
   "cell_type": "code",
   "execution_count": 35,
   "id": "d7b56a66-7c4a-49d1-9be4-5a941af869b7",
   "metadata": {},
   "outputs": [
    {
     "data": {
      "image/png": "[encoded data removed]",
      "text/plain": [
       "<Figure size 808.997x385.28 with 1 Axes>"
      ]
     },
     "execution_count": 35,
     "metadata": {},
     "output_type": "execute_result"
    }
   ],
   "source": [
    "qc_ha = QuantumCircuit(5,2)\n",
    "# encode inputs in qubits 0 and 1\n",
    "qc_ha.x(0) # For a=0, remove the this line. For a=1, leave it.\n",
    "qc_ha.x(1) # For b=0, remove the this line. For b=1, leave it.\n",
    "qc_ha.x(2)\n",
    "qc_ha.barrier()\n",
    "# use cnots to write the XOR of the inputs on qubit 2\n",
    "qc_ha.cx(0,3)\n",
    "qc_ha.cx(1,3)\n",
    "# use ccx to write the AND of the inputs on qubit 3\n",
    "qc_ha.ccx(0,1,4)\n",
    "qc_ha.barrier()\n",
    "\n",
    "\n",
    "qc_ha.cx(2,3)\n",
    "# use ccx to write the AND of the inputs on qubit 3\n",
    "qc_ha.ccx(0,2,4)\n",
    "qc_ha.ccx(1,2,4)\n",
    "qc_ha.barrier()\n",
    "# extract outputs\n",
    "qc_ha.measure(3,0) # extract XOR value\n",
    "qc_ha.measure(4,1) # extract AND value\n",
    "\n",
    "qc_ha.draw()"
   ]
  }
 ],
 "metadata": {
  "kernelspec": {
   "display_name": "Qiskit v0.32.1 (ipykernel)",
   "language": "python",
   "name": "python3"
  },
  "language_info": {
   "codemirror_mode": {
    "name": "ipython",
    "version": 3
   },
   "file_extension": ".py",
   "mimetype": "text/x-python",
   "name": "python",
   "nbconvert_exporter": "python",
   "pygments_lexer": "ipython3",
   "version": "3.8.10"
  },
  "widgets": {
   "application/vnd.jupyter.widget-state+json": {
    "state": {},
    "version_major": 2,
    "version_minor": 0
   }
  }
 },
 "nbformat": 4,
 "nbformat_minor": 5
}
