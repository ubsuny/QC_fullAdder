{
 "cells": [
  {
   "cell_type": "markdown",
   "id": "51fb7f22-50fa-47b9-9e39-0229ec91a385",
   "metadata": {},
   "source": [
    "# Quantum Phase Measurement HW 2.2  #"
   ]
  },
  {
   "cell_type": "markdown",
   "id": "e4d14329-807f-45ca-a13b-5c00a24f7577",
   "metadata": {},
   "source": [
    "Qiskit documentation used:\n",
    " 1.  https://qiskit.org/textbook/ch-states/representing-qubit-states.html \n",
    " 2.  https://qiskit.org/textbook/ch-demos/chsh.html\n",
    " 3.  https://quantum-computing.ibm.com/composer/docs/iqx/guide/introducing-qubit-phase"
   ]
  },
  {
   "cell_type": "markdown",
   "id": "8fbe86e9-f8c8-4d62-8c17-1ddce51b7dee",
   "metadata": {},
   "source": [
    "Here are my import statements. I used the same qiskit documentation as in Part 2.1"
   ]
  },
  {
   "cell_type": "code",
   "execution_count": 1,
   "id": "b7c0a374-afb0-41e3-a576-42ef0031903f",
   "metadata": {},
   "outputs": [],
   "source": [
    "from ibm_quantum_widgets import CircuitComposer\n",
    "from qiskit import QuantumRegister, ClassicalRegister, QuantumCircuit, assemble, Aer, IBMQ, transpile\n",
    "from numpy import pi\n",
    "from math import atan2\n",
    "from qiskit.quantum_info import Statevector\n",
    "from qiskit.visualization import plot_histogram, plot_bloch_vector\n",
    "from qiskit.tools.monitor import job_monitor, backend_monitor, backend_overview\n",
    "import time"
   ]
  },
  {
   "cell_type": "markdown",
   "id": "4334f771-859a-4ffc-a626-b1e2672fdcec",
   "metadata": {},
   "source": [
    "# Connecting circuit to the quantum computer"
   ]
  },
  {
   "cell_type": "code",
   "execution_count": 2,
   "id": "7fe68ec0-b415-435d-af64-f12ebb75c05c",
   "metadata": {},
   "outputs": [],
   "source": [
    "IBMQ.load_account()\n",
    "provider = IBMQ.get_provider('ibm-q')\n",
    "quito = provider.get_backend('ibmq_quito')"
   ]
  },
  {
   "cell_type": "markdown",
   "id": "370295d5-c224-49cf-bc3f-a9ac4ba16ec4",
   "metadata": {},
   "source": [
    "I only need one qubit. This is what is needed to initialize the environment."
   ]
  },
  {
   "cell_type": "code",
   "execution_count": 3,
   "id": "007bca75-b3c4-428f-b33f-3c41f0081a47",
   "metadata": {},
   "outputs": [],
   "source": [
    "qreg_q = QuantumRegister(1, 'q')\n",
    "creg_c = ClassicalRegister(1, 'c')\n",
    "circuit = QuantumCircuit(qreg_q, creg_c)"
   ]
  },
  {
   "cell_type": "markdown",
   "id": "820588dd-b29d-4765-8f08-14bd2124fbc9",
   "metadata": {},
   "source": [
    "**For measuring the real component, you need to:**\n",
    "1. Zero the qubit\n",
    "2. Add the first Hadamard gate\n",
    "3. Add some phase change\n",
    "4. Add another Hadamard gate to recombine\n",
    "5. Measure"
   ]
  },
  {
   "cell_type": "markdown",
   "id": "04d66162-ad31-4c8c-9d96-c7531e571916",
   "metadata": {},
   "source": [
    "## Real Circuit"
   ]
  },
  {
   "cell_type": "code",
   "execution_count": 5,
   "id": "f0d8ad08-76d6-4ee1-b9ef-904a4daf536f",
   "metadata": {},
   "outputs": [
    {
     "data": {
      "text/plain": [
       "<qiskit.circuit.instructionset.InstructionSet at 0x7fc0fc7ffee0>"
      ]
     },
     "execution_count": 5,
     "metadata": {},
     "output_type": "execute_result"
    }
   ],
   "source": [
    "circuit.reset(qreg_q[0])\n",
    "circuit.h(qreg_q[0])\n",
    "circuit.p(pi/3, qreg_q[0])\n",
    "circuit.h(qreg_q[0])\n",
    "circuit.measure(qreg_q[0], creg_c[0])"
   ]
  },
  {
   "cell_type": "code",
   "execution_count": 6,
   "id": "d037e1f5-a9c7-41cd-a093-53aed2c48465",
   "metadata": {},
   "outputs": [
    {
     "data": {
      "image/png": "[encoded data removed]",
      "text/plain": [
       "<Figure size 374.326x144.48 with 1 Axes>"
      ]
     },
     "execution_count": 6,
     "metadata": {},
     "output_type": "execute_result"
    }
   ],
   "source": [
    "circuit.draw()"
   ]
  },
  {
   "cell_type": "markdown",
   "id": "fe4c982d-2080-4301-b3ff-5abbbbef5f83",
   "metadata": {},
   "source": [
    "Transpile the circuit and send to the quantum computer you are using. In this example, I am using *quito*"
   ]
  },
  {
   "cell_type": "code",
   "execution_count": 7,
   "id": "f39c58de-6771-4fd5-bb64-a4f1dd782e16",
   "metadata": {},
   "outputs": [
    {
     "name": "stdout",
     "output_type": "stream",
     "text": [
      "Job Status: job has successfully run\n",
      "10.191361427307129\n"
     ]
    }
   ],
   "source": [
    "tic = time.time()\n",
    "transpiled_circuits = transpile(circuit, quito)\n",
    "job_real = quito.run(transpiled_circuits, shots=8192)\n",
    "job_monitor(job_real)\n",
    "result_real = job_real.result()\n",
    "toc = time.time()\n",
    "\n",
    "print(toc-tic)"
   ]
  },
  {
   "cell_type": "code",
   "execution_count": 8,
   "id": "d06e0ef5-0b62-4849-95b5-bc1702521063",
   "metadata": {},
   "outputs": [
    {
     "data": {
      "image/png": "[encoded data removed]",
      "text/plain": [
       "<Figure size 504x360 with 1 Axes>"
      ]
     },
     "execution_count": 8,
     "metadata": {},
     "output_type": "execute_result"
    }
   ],
   "source": [
    "counts = result_real.get_counts(circuit)\n",
    "plot_histogram(counts)"
   ]
  },
  {
   "cell_type": "code",
   "execution_count": 9,
   "id": "03c4ae0f-3714-4483-b898-8e9173f59d76",
   "metadata": {},
   "outputs": [
    {
     "name": "stdout",
     "output_type": "stream",
     "text": [
      "{'0': 6222, '1': 1970}\n"
     ]
    }
   ],
   "source": [
    "print(counts)"
   ]
  },
  {
   "cell_type": "markdown",
   "id": "5331af0c-9b1b-4a0b-af3c-960e36ba7750",
   "metadata": {},
   "source": [
    "## Imaginary Circuit\n",
    "Need to add another gate for the imaginary component for measuring the phase\n",
    "`circuit_i.sdg(qreg_q[0])` rotates the imaginary axis onto the real axis"
   ]
  },
  {
   "cell_type": "code",
   "execution_count": 10,
   "id": "eaadfc4a-5770-4889-b203-376dd512f2d5",
   "metadata": {},
   "outputs": [],
   "source": [
    "circuit_i = QuantumCircuit(qreg_q, creg_c)"
   ]
  },
  {
   "cell_type": "code",
   "execution_count": 11,
   "id": "416d1fb2-39b2-4753-aaa1-0fa9089b76a9",
   "metadata": {},
   "outputs": [
    {
     "data": {
      "text/plain": [
       "<qiskit.circuit.instructionset.InstructionSet at 0x7fc0fa8810d0>"
      ]
     },
     "execution_count": 11,
     "metadata": {},
     "output_type": "execute_result"
    }
   ],
   "source": [
    "circuit_i.reset(qreg_q[0])\n",
    "circuit_i.h(qreg_q[0])\n",
    "circuit_i.p(pi/3, qreg_q[0])\n",
    "circuit_i.sdg(qreg_q[0])\n",
    "circuit_i.h(qreg_q[0])\n",
    "circuit_i.measure(qreg_q[0], creg_c[0])"
   ]
  },
  {
   "cell_type": "code",
   "execution_count": 12,
   "id": "40c2bcee-f4b3-414e-ac68-e3cfc288eab0",
   "metadata": {},
   "outputs": [
    {
     "data": {
      "image/png": "[encoded data removed]",
      "text/plain": [
       "<Figure size 434.526x144.48 with 1 Axes>"
      ]
     },
     "execution_count": 12,
     "metadata": {},
     "output_type": "execute_result"
    }
   ],
   "source": [
    "circuit_i.draw()"
   ]
  },
  {
   "cell_type": "markdown",
   "id": "390ac155-caf9-4bdb-9625-7fa19e65a3e8",
   "metadata": {},
   "source": [
    "Transpile the circuit and send to the quantum computer you are using. In this example, I am using *quito* again"
   ]
  },
  {
   "cell_type": "code",
   "execution_count": 13,
   "id": "050c344b-18dd-4492-9d22-6921c928b92f",
   "metadata": {},
   "outputs": [
    {
     "name": "stdout",
     "output_type": "stream",
     "text": [
      "Job Status: job has successfully run\n",
      "9.279547929763794\n"
     ]
    }
   ],
   "source": [
    "tic = time.time()\n",
    "transpiled_circuits_i = transpile(circuit_i, quito)\n",
    "job_i = quito.run(transpiled_circuits_i, shots=8192)\n",
    "job_monitor(job_i)\n",
    "result_i = job_i.result()\n",
    "toc = time.time()\n",
    "\n",
    "print(toc-tic)"
   ]
  },
  {
   "cell_type": "code",
   "execution_count": 14,
   "id": "335425c0-7200-4a57-9a67-c7c4225505c0",
   "metadata": {},
   "outputs": [],
   "source": [
    "counts_i = result_i.get_counts(circuit_i)"
   ]
  },
  {
   "cell_type": "markdown",
   "id": "f3d9442e-76d9-4560-b053-9e78d68acbb5",
   "metadata": {},
   "source": [
    "Following documentation (3), the x components for the atan2 function is the difference between the percentage of state 0 and the percentage of state 1 occurring\n",
    "\n",
    "(divide by the number of shots to get the percentage) \n",
    "\n",
    "The same follows for y"
   ]
  },
  {
   "cell_type": "code",
   "execution_count": 15,
   "id": "2f328be1-bd5a-4ef4-8caa-70df63061645",
   "metadata": {},
   "outputs": [
    {
     "name": "stdout",
     "output_type": "stream",
     "text": [
      "0.51904296875\n"
     ]
    }
   ],
   "source": [
    "real_diff = (counts['0']-counts['1'])/8192\n",
    "print(real_diff)"
   ]
  },
  {
   "cell_type": "code",
   "execution_count": 16,
   "id": "80db2670-cf24-40ca-b7a7-dddbb91f9d0b",
   "metadata": {},
   "outputs": [
    {
     "name": "stdout",
     "output_type": "stream",
     "text": [
      "0.834716796875\n"
     ]
    }
   ],
   "source": [
    "imag_diff = (counts_i['0']-counts_i['1'])/8192\n",
    "print(imag_diff)"
   ]
  },
  {
   "cell_type": "code",
   "execution_count": 17,
   "id": "2af3073c-6732-452f-b4b4-d435072d3b78",
   "metadata": {},
   "outputs": [],
   "source": [
    "x = real_diff / (real_diff**2 + imag_diff**2)\n",
    "y = imag_diff / (real_diff**2 + imag_diff**2)"
   ]
  },
  {
   "cell_type": "code",
   "execution_count": 18,
   "id": "fd589ad6-944b-4e0e-85d5-cc4647c5ab78",
   "metadata": {},
   "outputs": [],
   "source": [
    "angle = atan2(y,x)"
   ]
  },
  {
   "cell_type": "code",
   "execution_count": 19,
   "id": "198ddeba-ec09-4d9a-9895-48cd0a95393d",
   "metadata": {},
   "outputs": [
    {
     "name": "stdout",
     "output_type": "stream",
     "text": [
      "1.0144875661311132\n",
      "1.0471975511965976\n"
     ]
    }
   ],
   "source": [
    "print(angle)\n",
    "print(pi/3)"
   ]
  },
  {
   "cell_type": "markdown",
   "id": "0f481d71-5a6f-40a7-aea2-24fcd353c75b",
   "metadata": {},
   "source": [
    "The phase I used was $\\frac{\\pi}{3}$, which is fairly close to the result obtained by the quantum computer"
   ]
  }
 ],
 "metadata": {
  "kernelspec": {
   "display_name": "Qiskit v0.30.1 (ipykernel)",
   "language": "python",
   "name": "python3"
  },
  "language_info": {
   "codemirror_mode": {
    "name": "ipython",
    "version": 3
   },
   "file_extension": ".py",
   "mimetype": "text/x-python",
   "name": "python",
   "nbconvert_exporter": "python",
   "pygments_lexer": "ipython3",
   "version": "3.8.10"
  },
  "widgets": {
   "application/vnd.jupyter.widget-state+json": {
    "state": {},
    "version_major": 2,
    "version_minor": 0
   }
  }
 },
 "nbformat": 4,
 "nbformat_minor": 5
}
